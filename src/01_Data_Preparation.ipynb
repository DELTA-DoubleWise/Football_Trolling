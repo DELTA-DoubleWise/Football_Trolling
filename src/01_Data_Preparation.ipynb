{
 "cells": [
  {
   "cell_type": "code",
   "execution_count": 1,
   "metadata": {},
   "outputs": [],
   "source": [
    "import praw\n",
    "import pandas as pd\n",
    "import numpy as np\n",
    "import requests\n",
    "from praw.models import MoreComments\n",
    "import datetime as dt\n",
    "from psaw import PushshiftAPI\n",
    "from tqdm import tqdm\n",
    "import pickle\n",
    "from utils import crawler_utils\n",
    "from utils.crawler_utils import time_initialization, club_abbr, club_reddit_abbr, transform_df"
   ]
  },
  {
   "cell_type": "markdown",
   "metadata": {},
   "source": [
    "### Initialization"
   ]
  },
  {
   "cell_type": "code",
   "execution_count": 2,
   "metadata": {},
   "outputs": [],
   "source": [
    "api = PushshiftAPI()\n",
    "\n",
    "start_time, end_time = time_initialization()"
   ]
  },
  {
   "cell_type": "markdown",
   "metadata": {},
   "source": [
    "## Data Collection"
   ]
  },
  {
   "cell_type": "code",
   "execution_count": null,
   "metadata": {},
   "outputs": [],
   "source": [
    "for club_index in tqdm(range(len(club_abbr))):\n",
    "    temp_list = []\n",
    "    for i in tqdm(range(len(start_time))):\n",
    "        temp_list.append(np.array(list(api.search_submissions(after=start_time[i], before=end_time[i],\n",
    "                                                              subreddit=club_reddit_abbr[club_index],\n",
    "                                                              filter=['url', 'author', 'title', 'subreddit', 'id',\n",
    "                                                                      'num_comments', 'score', 'ups', 'upvote_ratio'])\n",
    "                                       )))\n",
    "    file = open(f'./data/{club_abbr[club_index]}.pickle', 'wb')\n",
    "    pickle.dump(temp_list, file)\n",
    "    file.close()\n"
   ]
  },
  {
   "cell_type": "code",
   "execution_count": 5,
   "metadata": {},
   "outputs": [
    {
     "name": "stderr",
     "output_type": "stream",
     "text": [
      "  0%|          | 0/1 [00:00<?, ?it/s]\n",
      "  0%|          | 0/12 [00:00<?, ?it/s]\u001b[A\n",
      "  8%|▊         | 1/12 [00:03<00:36,  3.31s/it]\u001b[A\n",
      " 17%|█▋        | 2/12 [00:07<00:34,  3.48s/it]\u001b[A\n",
      " 25%|██▌       | 3/12 [00:10<00:31,  3.49s/it]\u001b[A\n",
      " 33%|███▎      | 4/12 [00:14<00:29,  3.71s/it]\u001b[A\n",
      " 42%|████▏     | 5/12 [00:17<00:23,  3.41s/it]\u001b[A\n",
      " 50%|█████     | 6/12 [00:20<00:19,  3.27s/it]\u001b[A\n",
      " 58%|█████▊    | 7/12 [00:23<00:16,  3.28s/it]\u001b[A\n",
      " 67%|██████▋   | 8/12 [00:33<00:20,  5.25s/it]\u001b[A\n",
      " 75%|███████▌  | 9/12 [00:36<00:13,  4.47s/it]\u001b[A\n",
      " 83%|████████▎ | 10/12 [00:39<00:08,  4.15s/it]\u001b[A\n",
      " 92%|█████████▏| 11/12 [00:43<00:03,  3.95s/it]\u001b[A\n",
      "100%|██████████| 12/12 [00:46<00:00,  3.91s/it]\u001b[A\n",
      "100%|██████████| 1/1 [00:46<00:00, 46.94s/it]\n"
     ]
    }
   ],
   "source": [
    "for club_index in tqdm(range(14,15)):\n",
    "    temp_list = []\n",
    "    for i in tqdm(range(len(start_time))):\n",
    "        temp_list.append(np.array(list(api.search_submissions(after=start_time[i], before=end_time[i],\n",
    "                                                              subreddit=club_reddit_abbr[club_index],\n",
    "                                                              filter=['url', 'author', 'title', 'subreddit', 'id',\n",
    "                                                                      'num_comments', 'score', 'ups', 'upvote_ratio'])\n",
    "                                       )))\n",
    "    file = open(f'./data/{club_abbr[club_index]}.pickle', 'wb')\n",
    "    pickle.dump(temp_list, file)\n",
    "    file.close()"
   ]
  },
  {
   "cell_type": "markdown",
   "metadata": {},
   "source": [
    "## Reformat the data"
   ]
  },
  {
   "cell_type": "code",
   "execution_count": 6,
   "metadata": {},
   "outputs": [
    {
     "name": "stderr",
     "output_type": "stream",
     "text": [
      "  0%|          | 0/16 [00:02<?, ?it/s]\n",
      "ERROR:root:Internal Python error in the inspect module.\n",
      "Below is the traceback from this internal error.\n",
      "\n"
     ]
    },
    {
     "name": "stdout",
     "output_type": "stream",
     "text": [
      "Traceback (most recent call last):\n",
      "  File \"/Users/feegee2000/opt/anaconda3/lib/python3.7/site-packages/IPython/core/interactiveshell.py\", line 3326, in run_code\n",
      "    exec(code_obj, self.user_global_ns, self.user_ns)\n",
      "  File \"<ipython-input-6-512acbf80228>\", line 3, in <module>\n",
      "    df = transform_df(filename)\n",
      "  File \"/Users/feegee2000/Desktop/fyp/Football_Trolling/src/utils/crawler_utils.py\", line 76, in transform_df\n",
      "    }, ignore_index=True)\n",
      "  File \"/Users/feegee2000/opt/anaconda3/lib/python3.7/site-packages/pandas/core/frame.py\", line 7751, in append\n",
      "    sort=sort,\n",
      "  File \"/Users/feegee2000/opt/anaconda3/lib/python3.7/site-packages/pandas/core/reshape/concat.py\", line 287, in concat\n",
      "    return op.get_result()\n",
      "  File \"/Users/feegee2000/opt/anaconda3/lib/python3.7/site-packages/pandas/core/reshape/concat.py\", line 503, in get_result\n",
      "    mgrs_indexers, self.new_axes, concat_axis=self.bm_axis, copy=self.copy,\n",
      "  File \"/Users/feegee2000/opt/anaconda3/lib/python3.7/site-packages/pandas/core/internals/concat.py\", line 79, in concatenate_block_managers\n",
      "    _concatenate_join_units(join_units, concat_axis, copy=copy,),\n",
      "  File \"/Users/feegee2000/opt/anaconda3/lib/python3.7/site-packages/pandas/core/internals/concat.py\", line 314, in _concatenate_join_units\n",
      "    empty_dtype, upcasted_na = _get_empty_dtype_and_na(join_units)\n",
      "  File \"/Users/feegee2000/opt/anaconda3/lib/python3.7/site-packages/pandas/core/internals/concat.py\", line 416, in _get_empty_dtype_and_na\n",
      "    upcast_classes[upcast_cls].append(dtype)\n",
      "KeyboardInterrupt\n",
      "\n",
      "During handling of the above exception, another exception occurred:\n",
      "\n",
      "Traceback (most recent call last):\n",
      "  File \"/Users/feegee2000/opt/anaconda3/lib/python3.7/site-packages/IPython/core/interactiveshell.py\", line 2040, in showtraceback\n",
      "    stb = value._render_traceback_()\n",
      "AttributeError: 'KeyboardInterrupt' object has no attribute '_render_traceback_'\n",
      "\n",
      "During handling of the above exception, another exception occurred:\n",
      "\n",
      "Traceback (most recent call last):\n",
      "  File \"/Users/feegee2000/opt/anaconda3/lib/python3.7/site-packages/IPython/core/ultratb.py\", line 1101, in get_records\n",
      "    return _fixed_getinnerframes(etb, number_of_lines_of_context, tb_offset)\n",
      "  File \"/Users/feegee2000/opt/anaconda3/lib/python3.7/site-packages/IPython/core/ultratb.py\", line 319, in wrapped\n",
      "    return f(*args, **kwargs)\n",
      "  File \"/Users/feegee2000/opt/anaconda3/lib/python3.7/site-packages/IPython/core/ultratb.py\", line 353, in _fixed_getinnerframes\n",
      "    records = fix_frame_records_filenames(inspect.getinnerframes(etb, context))\n",
      "  File \"/Users/feegee2000/opt/anaconda3/lib/python3.7/inspect.py\", line 1502, in getinnerframes\n",
      "    frameinfo = (tb.tb_frame,) + getframeinfo(tb, context)\n",
      "  File \"/Users/feegee2000/opt/anaconda3/lib/python3.7/inspect.py\", line 1460, in getframeinfo\n",
      "    filename = getsourcefile(frame) or getfile(frame)\n",
      "  File \"/Users/feegee2000/opt/anaconda3/lib/python3.7/inspect.py\", line 696, in getsourcefile\n",
      "    if getattr(getmodule(object, filename), '__loader__', None) is not None:\n",
      "  File \"/Users/feegee2000/opt/anaconda3/lib/python3.7/inspect.py\", line 742, in getmodule\n",
      "    os.path.realpath(f)] = module.__name__\n",
      "  File \"/Users/feegee2000/opt/anaconda3/lib/python3.7/posixpath.py\", line 395, in realpath\n",
      "    path, ok = _joinrealpath(filename[:0], filename, {})\n",
      "  File \"/Users/feegee2000/opt/anaconda3/lib/python3.7/posixpath.py\", line 429, in _joinrealpath\n",
      "    if not islink(newpath):\n",
      "  File \"/Users/feegee2000/opt/anaconda3/lib/python3.7/posixpath.py\", line 171, in islink\n",
      "    st = os.lstat(path)\n",
      "KeyboardInterrupt\n"
     ]
    },
    {
     "ename": "KeyboardInterrupt",
     "evalue": "",
     "output_type": "error",
     "traceback": [
      "\u001b[0;31m---------------------------------------------------------------------------\u001b[0m"
     ]
    }
   ],
   "source": [
    "for club_name in tqdm(club_abbr):\n",
    "    filename = f'./data/{club_name}.pickle'\n",
    "    df = transform_df(filename)\n",
    "    df.to_csv(f'./data/{club_name}.csv',index=False)"
   ]
  },
  {
   "cell_type": "code",
   "execution_count": 10,
   "metadata": {},
   "outputs": [],
   "source": [
    "filename = f'./data/MIL.pickle'\n",
    "df = transform_df(filename)\n",
    "df.to_csv(f'./data/MIL.csv',index=False)"
   ]
  },
  {
   "cell_type": "code",
   "execution_count": null,
   "metadata": {},
   "outputs": [],
   "source": []
  }
 ],
 "metadata": {
  "kernelspec": {
   "display_name": "Python 3",
   "language": "python",
   "name": "python3"
  },
  "language_info": {
   "codemirror_mode": {
    "name": "ipython",
    "version": 3
   },
   "file_extension": ".py",
   "mimetype": "text/x-python",
   "name": "python",
   "nbconvert_exporter": "python",
   "pygments_lexer": "ipython3",
   "version": "3.7.4"
  }
 },
 "nbformat": 4,
 "nbformat_minor": 2
}
