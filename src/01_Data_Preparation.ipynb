{
 "cells": [
  {
   "cell_type": "code",
   "execution_count": null,
   "metadata": {},
   "outputs": [],
   "source": [
    "import praw\n",
    "import pandas as pd\n",
    "import numpy as np\n",
    "import requests\n",
    "from praw.models import MoreComments\n",
    "import datetime as dt\n",
    "from psaw import PushshiftAPI\n",
    "from tqdm import tqdm\n",
    "import pickle\n",
    "from utils import crawler_utils\n",
    "from utils.crawler_utils import time_initialization, club_abbr, club_reddit_abbr, transform_df, parse_dates, extract_comments"
   ]
  },
  {
   "cell_type": "markdown",
   "metadata": {},
   "source": [
    "### Initialization"
   ]
  },
  {
   "cell_type": "code",
   "execution_count": null,
   "metadata": {},
   "outputs": [],
   "source": [
    "api = PushshiftAPI()\n",
    "\n",
    "start_time, end_time = time_initialization()"
   ]
  },
  {
   "cell_type": "markdown",
   "metadata": {},
   "source": [
    "## Data Collection"
   ]
  },
  {
   "cell_type": "code",
   "execution_count": null,
   "metadata": {},
   "outputs": [],
   "source": [
    "for club_index in tqdm(range(len(club_abbr))):\n",
    "    temp_list = []\n",
    "    for i in tqdm(range(len(start_time))):\n",
    "        temp_list.append(np.array(list(api.search_submissions(after=start_time[i], before=end_time[i],\n",
    "                                                              subreddit=club_reddit_abbr[club_index],\n",
    "                                                              filter=['url', 'author', 'title', 'subreddit', 'id',\n",
    "                                                                      'num_comments', 'score', 'ups', 'upvote_ratio'])\n",
    "                                       )))\n",
    "    file = open(f'./data/{club_abbr[club_index]}.pickle', 'wb')\n",
    "    pickle.dump(temp_list, file)\n",
    "    file.close()\n"
   ]
  },
  {
   "cell_type": "code",
   "execution_count": null,
   "metadata": {},
   "outputs": [],
   "source": [
    "for club_index in tqdm(range(14,15)):\n",
    "    temp_list = []\n",
    "    for i in tqdm(range(len(start_time))):\n",
    "        temp_list.append(np.array(list(api.search_submissions(after=start_time[i], before=end_time[i],\n",
    "                                                              subreddit=club_reddit_abbr[club_index],\n",
    "                                                              filter=['url', 'author', 'title', 'subreddit', 'id',\n",
    "                                                                      'num_comments', 'score', 'ups', 'upvote_ratio'])\n",
    "                                       )))\n",
    "    file = open(f'./data/{club_abbr[club_index]}.pickle', 'wb')\n",
    "    pickle.dump(temp_list, file)\n",
    "    file.close()"
   ]
  },
  {
   "cell_type": "markdown",
   "metadata": {},
   "source": [
    "## Reformat the data"
   ]
  },
  {
   "cell_type": "code",
   "execution_count": null,
   "metadata": {},
   "outputs": [],
   "source": [
    "for club_name in tqdm(club_abbr):\n",
    "    filename = f'./data/{club_name}.pickle'\n",
    "    df = transform_df(filename)\n",
    "    df = parse_dates(df)\n",
    "    df.to_csv(f'./data/{club_name}.csv',index=False)"
   ]
  },
  {
   "cell_type": "markdown",
   "metadata": {},
   "source": [
    "## Extracting Comments"
   ]
  },
  {
   "cell_type": "code",
   "execution_count": null,
   "metadata": {},
   "outputs": [],
   "source": [
    "columns = ['comments','post_id','subreddit','time','title']\n",
    "all_comments = pd.DataFrame(columns = columns)\n",
    "for club_name in tqdm(club_abbr):\n",
    "    filename = f'./data/{club_name}.csv'    \n",
    "    all_comments.append(extract_comments(filename,columns),ignore_index=True)\n",
    "all_comments.to_csv('./data/all_comments.csv',index=False)"
   ]
  },
  {
   "cell_type": "code",
   "execution_count": null,
   "metadata": {},
   "outputs": [],
   "source": []
  }
 ],
 "metadata": {
  "kernelspec": {
   "display_name": "Python 3",
   "language": "python",
   "name": "python3"
  },
  "language_info": {
   "codemirror_mode": {
    "name": "ipython",
    "version": 3
   },
   "file_extension": ".py",
   "mimetype": "text/x-python",
   "name": "python",
   "nbconvert_exporter": "python",
   "pygments_lexer": "ipython3",
   "version": "3.7.4"
  }
 },
 "nbformat": 4,
 "nbformat_minor": 2
}
