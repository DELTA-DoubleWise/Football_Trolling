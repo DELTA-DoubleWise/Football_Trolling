{
 "cells": [
  {
   "cell_type": "code",
   "execution_count": 10,
   "metadata": {},
   "outputs": [],
   "source": [
    "import requests\n",
    "from bs4 import BeautifulSoup\n",
    "import tqdm.notebook as tq\n",
    "import pickle"
   ]
  },
  {
   "cell_type": "code",
   "execution_count": 2,
   "metadata": {},
   "outputs": [],
   "source": [
    "def get_pages(page_url):\n",
    "    headers = {\n",
    "        'User-Agent':'Mozilla/5.0 (Macintosh; Intel Mac OS X 10_15_7) AppleWebKit/537.36 (KHTML, like Gecko) Chrome/91.0.4472.164 Safari/537.36'\n",
    "    }\n",
    "    response = requests.get(url=page_url,headers=headers)\n",
    "    page_soup = BeautifulSoup(response.text,'lxml')\n",
    "    return page_soup"
   ]
  },
  {
   "cell_type": "code",
   "execution_count": 3,
   "metadata": {},
   "outputs": [],
   "source": [
    "urls = ['https://www.transfermarkt.com/arsenal-fc/startseite/verein/11',\n",
    "        'https://www.transfermarkt.com/fc-chelsea/startseite/verein/631',\n",
    "        'https://www.transfermarkt.com/fc-liverpool/startseite/verein/31',\n",
    "        'https://www.transfermarkt.com/manchester-city/startseite/verein/281',\n",
    "        'https://www.transfermarkt.com/manchester-united/startseite/verein/985',\n",
    "        'https://www.transfermarkt.com/tottenham-hotspur/startseite/verein/148',\n",
    "        'https://www.transfermarkt.com/atletico-madrid/startseite/verein/13',\n",
    "        'https://www.transfermarkt.com/fc-barcelona/startseite/verein/131',\n",
    "        'https://www.transfermarkt.com/real-madrid/startseite/verein/418',\n",
    "        'https://www.transfermarkt.com/fc-paris-saint-germain/startseite/verein/583',\n",
    "        'https://www.transfermarkt.com/fc-bayern-munchen/startseite/verein/27',\n",
    "        'https://www.transfermarkt.com/borussia-dortmund/startseite/verein/16',\n",
    "        'https://www.transfermarkt.com/inter-mailand/startseite/verein/46',\n",
    "        'https://www.transfermarkt.com/ac-mailand/startseite/verein/5',\n",
    "        'https://www.transfermarkt.com/juventus-turin/startseite/verein/506',\n",
    "        'https://www.transfermarkt.com/as-rom/startseite/verein/12'\n",
    "       ]\n"
   ]
  },
  {
   "cell_type": "code",
   "execution_count": 4,
   "metadata": {},
   "outputs": [],
   "source": [
    "def get_names(url):\n",
    "    soup = get_pages(url)\n",
    "    hide = soup.find_all('td',class_='hide')\n",
    "    for i in range(len(hide)):\n",
    "        name = hide[i].text\n",
    "        if name not in names:\n",
    "            names.append(name)"
   ]
  },
  {
   "cell_type": "code",
   "execution_count": 5,
   "metadata": {},
   "outputs": [
    {
     "data": {
      "application/vnd.jupyter.widget-view+json": {
       "model_id": "d825cde3efc74cd1af6bedacce957d97",
       "version_major": 2,
       "version_minor": 0
      },
      "text/plain": [
       "HBox(children=(HTML(value=''), FloatProgress(value=0.0, max=16.0), HTML(value='')))"
      ]
     },
     "metadata": {},
     "output_type": "display_data"
    },
    {
     "name": "stdout",
     "output_type": "stream",
     "text": [
      "\n"
     ]
    }
   ],
   "source": [
    "names = []\n",
    "for url in tq.tqdm(urls):\n",
    "    url1 = url+'?saison_id=2020'\n",
    "    url2 = url+'?saison_id=2019'\n",
    "    get_names(url)\n",
    "    get_names(url1)\n",
    "    get_names(url2)"
   ]
  },
  {
   "cell_type": "code",
   "execution_count": null,
   "metadata": {},
   "outputs": [],
   "source": [
    "def process(names):\n",
    "    result = []\n",
    "    for name in names:\n",
    "        sp = name.split()\n",
    "        for word in sp:\n",
    "            word = word.lower()\n",
    "            if word not in result:\n",
    "                result.append(word)\n",
    "    return result"
   ]
  },
  {
   "cell_type": "code",
   "execution_count": null,
   "metadata": {},
   "outputs": [],
   "source": [
    "player_names = process(names)\n",
    "pickle.dump(player_names, open('../data/pretrained/player_names.pkl', 'wb'))"
   ]
  },
  {
   "cell_type": "code",
   "execution_count": 25,
   "metadata": {},
   "outputs": [],
   "source": [
    "coach_names = ['carlo','ancelotti','diego','simeone','julen', 'lopetegui','xavi','ronald','koeman',\n",
    "               'Quique Setién','Ernesto Valverde','Zinedine Zidane','Ole Gunnar Solskjaer',\n",
    "               'Jose Mourinho','Thomas Tuchel','Frank Lampard','Maurizio Sarri','Antonio Conte','Jurgen Klopp',\n",
    "               'Josep Guardiola','Ryan Mason','Nuno Espirito Santo','Mauricio Pochettino','Marco Rose',\n",
    "               'Edin Terzic','Lucien Favre','Julian Nagelsmann','Hans-Dieter Flick','Niko Kovac','Simone Inzaghi',\n",
    "               'Luciano Spalletti','Massimiliano Allegri','Andrea Pirlo','Stefano Pioli','Marco Giampaolo','Vincenzo Montella',\n",
    "               'Gennaro Gattuso','Paulo Fonseca','Claudio Ranieri','Unai Emery','mikel','Arteta','Fredrik Ljungberg','Arsene Wenger']"
   ]
  },
  {
   "cell_type": "code",
   "execution_count": 26,
   "metadata": {},
   "outputs": [],
   "source": [
    "manager_name = process(coach_names)\n",
    "pickle.dump(manager_names, open('../data/pretrained/manager_names.pkl', 'wb'))"
   ]
  },
  {
   "cell_type": "code",
   "execution_count": 20,
   "metadata": {},
   "outputs": [],
   "source": [
    "stadium_names = ['Emirates','Stamford Bridge','Anfield','Etihad','Trafford','Westfalenstadion','Allianz','Vicente Calderon'\n",
    "                 'Camp Nou','Giuseppe Meazza','Olimpico','Parc des Princes']"
   ]
  },
  {
   "cell_type": "code",
   "execution_count": 27,
   "metadata": {},
   "outputs": [],
   "source": [
    "stadium = process(stadium_names)\n",
    "pickle.dump(stadium, open('../data/pretrained/stadium_names.pkl', 'wb'))"
   ]
  },
  {
   "cell_type": "code",
   "execution_count": null,
   "metadata": {},
   "outputs": [],
   "source": []
  }
 ],
 "metadata": {
  "kernelspec": {
   "display_name": "Python 3",
   "language": "python",
   "name": "python3"
  },
  "language_info": {
   "codemirror_mode": {
    "name": "ipython",
    "version": 3
   },
   "file_extension": ".py",
   "mimetype": "text/x-python",
   "name": "python",
   "nbconvert_exporter": "python",
   "pygments_lexer": "ipython3",
   "version": "3.7.4"
  }
 },
 "nbformat": 4,
 "nbformat_minor": 2
}
