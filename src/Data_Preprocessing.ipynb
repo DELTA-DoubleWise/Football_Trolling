{
 "cells": [
  {
   "cell_type": "code",
   "execution_count": 1,
   "metadata": {},
   "outputs": [],
   "source": [
    "import numpy as np\n",
    "import pandas as pd\n",
    "import pickle"
   ]
  },
  {
   "cell_type": "code",
   "execution_count": 2,
   "metadata": {},
   "outputs": [],
   "source": [
    "with open('./data/MIL.pickle', 'rb') as file:\n",
    "    a = pickle.load(file)"
   ]
  },
  {
   "cell_type": "code",
   "execution_count": 3,
   "metadata": {},
   "outputs": [
    {
     "data": {
      "text/plain": [
       "list"
      ]
     },
     "execution_count": 3,
     "metadata": {},
     "output_type": "execute_result"
    }
   ],
   "source": [
    "type(a)"
   ]
  },
  {
   "cell_type": "code",
   "execution_count": 7,
   "metadata": {},
   "outputs": [],
   "source": [
    "a = np.array(a,dtype=object)"
   ]
  },
  {
   "cell_type": "code",
   "execution_count": 4,
   "metadata": {},
   "outputs": [],
   "source": [
    "a = [item for sublist in a for item in sublist]"
   ]
  },
  {
   "cell_type": "code",
   "execution_count": 5,
   "metadata": {},
   "outputs": [
    {
     "data": {
      "text/plain": [
       "8122"
      ]
     },
     "execution_count": 5,
     "metadata": {},
     "output_type": "execute_result"
    }
   ],
   "source": [
    "len(a)"
   ]
  },
  {
   "cell_type": "code",
   "execution_count": 19,
   "metadata": {},
   "outputs": [],
   "source": [
    "a = np.array(a)"
   ]
  },
  {
   "cell_type": "code",
   "execution_count": 6,
   "metadata": {},
   "outputs": [
    {
     "ename": "TypeError",
     "evalue": "list indices must be integers or slices, not tuple",
     "output_type": "error",
     "traceback": [
      "\u001b[0;31m---------------------------------------------------------------------------\u001b[0m",
      "\u001b[0;31mTypeError\u001b[0m                                 Traceback (most recent call last)",
      "\u001b[0;32m<ipython-input-6-c1e597a91e4c>\u001b[0m in \u001b[0;36m<module>\u001b[0;34m\u001b[0m\n\u001b[0;32m----> 1\u001b[0;31m \u001b[0ma_dist\u001b[0m \u001b[0;34m=\u001b[0m \u001b[0ma\u001b[0m\u001b[0;34m[\u001b[0m\u001b[0;34m:\u001b[0m\u001b[0;34m,\u001b[0m\u001b[0;36m10\u001b[0m\u001b[0;34m]\u001b[0m\u001b[0;34m\u001b[0m\u001b[0;34m\u001b[0m\u001b[0m\n\u001b[0m",
      "\u001b[0;31mTypeError\u001b[0m: list indices must be integers or slices, not tuple"
     ]
    }
   ],
   "source": [
    "a_dist = a[:,10]"
   ]
  },
  {
   "cell_type": "code",
   "execution_count": 21,
   "metadata": {},
   "outputs": [
    {
     "data": {
      "text/plain": [
       "array([{'author': 'Samkazi23', 'created_utc': 1601394725, 'id': 'j21vyv', 'num_comments': 9, 'score': 1, 'subreddit': 'ACMilan', 'title': 'Jens Petter Hauge has just arrived to the hotel after landing in Malpensa. He rests now, and tomorrow he will have the medical examinations before signing his contract with AC Milan.', 'upvote_ratio': 1.0, 'url': 'https://twitter.com/ACMReports/status/1310969921397051396?s=09', 'created': 1601365925.0},\n",
       "       {'author': 'Gaverini', 'created_utc': 1601394196, 'id': 'j21pjj', 'num_comments': 7, 'score': 1, 'subreddit': 'ACMilan', 'title': 'Favourite AC Milan Goal: Final Results', 'upvote_ratio': 1.0, 'url': 'https://i.redd.it/p5ud8vafw3q51.png', 'created': 1601365396.0},\n",
       "       {'author': 'Dexonic', 'created_utc': 1601390736, 'id': 'j20l0o', 'num_comments': 66, 'score': 1, 'subreddit': 'ACMilan', 'title': '[Di Marzio] Fofana is becoming difficult for Milan as Saint-Etienne value him for €40M. Talks took place with Bologna for Tomiyasu who is worth €25M for the Rossoblu', 'upvote_ratio': 1.0, 'url': 'https://gianlucadimarzio.com/it/milan-tomiyasu-fofana-calciomercato-news', 'created': 1601361936.0},\n",
       "       {'author': 'GianniRivera10', 'created_utc': 1601387590, 'id': 'j1zm7n', 'num_comments': 14, 'score': 1, 'subreddit': 'ACMilan', 'title': '[Ultimo Uomo] Jens Petter Hauge, an entertaining bet for AC Milan. How does the new purchase from Bodo/Glimt play?', 'upvote_ratio': 1.0, 'url': 'https://www.ultimouomo.com/hauge-milan-bodo-calciomercato/', 'created': 1601358790.0},\n",
       "       {'author': 'Samkazi23', 'created_utc': 1601384949, 'id': 'j1yvm8', 'num_comments': 8, 'score': 1, 'subreddit': 'ACMilan', 'title': 'Get well soon, Ante!', 'upvote_ratio': 1.0, 'url': 'https://i.imgur.com/Ef5gzFt.jpg', 'created': 1601356149.0},\n",
       "       {'author': 'Zeno_Von_Persico', 'created_utc': 1601384251, 'id': 'j1yorv', 'num_comments': 0, 'score': 1, 'subreddit': 'ACMilan', 'title': 'With the departure of Paquetà, I think we can officially say: Leonardo disasterclass was worst than Fassobelli [Effort Post]', 'upvote_ratio': 1.0, 'url': 'https://www.reddit.com/r/ACMilan/comments/j1yorv/with_the_departure_of_paquetà_i_think_we_can/', 'created': 1601355451.0},\n",
       "       {'author': 'Samkazi23', 'created_utc': 1601382099, 'id': 'j1y5em', 'num_comments': 13, 'score': 1, 'subreddit': 'ACMilan', 'title': 'Crespo spoke to GdS on Pioli: \"I know him well, he has clear ideas, is open to dialogue with the players and above all, he\\'s been able to give an identity to the group. In these first days of the league, the work that was done in the second part of last season is continuing.\"', 'upvote_ratio': 1.0, 'url': 'https://twitter.com/ACMReports/status/1310868593119301634?s=09', 'created': 1601353299.0},\n",
       "       {'author': 'sonictank', 'created_utc': 1601381691, 'id': 'j1y1y3', 'num_comments': 13, 'score': 1, 'subreddit': 'ACMilan', 'title': '30m transfers in post-Galliani era', 'upvote_ratio': 1.0, 'url': 'https://www.reddit.com/r/ACMilan/comments/j1y1y3/30m_transfers_in_postgalliani_era/', 'created': 1601352891.0},\n",
       "       {'author': 'youngbestest', 'created_utc': 1601381623, 'id': 'j1y1f6', 'num_comments': 14, 'score': 1, 'subreddit': 'ACMilan', 'title': 'Young players and the importance of an Enabling Environment', 'upvote_ratio': 1.0, 'url': 'https://www.reddit.com/r/ACMilan/comments/j1y1f6/young_players_and_the_importance_of_an_enabling/', 'created': 1601352823.0},\n",
       "       {'author': 'Samkazi23', 'created_utc': 1601380690, 'id': 'j1xtbe', 'num_comments': 30, 'score': 1, 'subreddit': 'ACMilan', 'title': 'Paquetá will sign his contract as new OL player on next two days. Personal terms agreed until June 2025 - AC Milan will sell him on a permanent deal. Here we go! 🤝', 'upvote_ratio': 1.0, 'url': 'https://twitter.com/FabrizioRomano/status/1310910655906689031?s=09', 'created': 1601351890.0}],\n",
       "      dtype=object)"
      ]
     },
     "execution_count": 21,
     "metadata": {},
     "output_type": "execute_result"
    }
   ],
   "source": [
    "a_dist[:10]"
   ]
  },
  {
   "cell_type": "code",
   "execution_count": 28,
   "metadata": {},
   "outputs": [
    {
     "data": {
      "text/plain": [
       "'Samkazi23'"
      ]
     },
     "execution_count": 28,
     "metadata": {},
     "output_type": "execute_result"
    }
   ],
   "source": [
    "a_dist[0]"
   ]
  },
  {
   "cell_type": "code",
   "execution_count": 29,
   "metadata": {},
   "outputs": [],
   "source": [
    "df = pd.DataFrame()"
   ]
  },
  {
   "cell_type": "code",
   "execution_count": 33,
   "metadata": {},
   "outputs": [],
   "source": [
    "for post in a_dist:\n",
    "    df = df.append({\n",
    "        'author':post['author'],\n",
    "        'id':post['id'],\n",
    "        'created_utc':post['created_utc'],\n",
    "        'subreddit':post['subreddit'],\n",
    "        'url':post['url'],\n",
    "        'title':post['title'],\n",
    "        'num_comments':post['num_comments'],\n",
    "        'score':post['score'],\n",
    "        'upvote_ratio':post['upvote_ratio']\n",
    "    },ignore_index=True)"
   ]
  },
  {
   "cell_type": "code",
   "execution_count": 34,
   "metadata": {
    "scrolled": false
   },
   "outputs": [
    {
     "data": {
      "text/html": [
       "<div>\n",
       "<style scoped>\n",
       "    .dataframe tbody tr th:only-of-type {\n",
       "        vertical-align: middle;\n",
       "    }\n",
       "\n",
       "    .dataframe tbody tr th {\n",
       "        vertical-align: top;\n",
       "    }\n",
       "\n",
       "    .dataframe thead th {\n",
       "        text-align: right;\n",
       "    }\n",
       "</style>\n",
       "<table border=\"1\" class=\"dataframe\">\n",
       "  <thead>\n",
       "    <tr style=\"text-align: right;\">\n",
       "      <th></th>\n",
       "      <th>author</th>\n",
       "      <th>created_utc</th>\n",
       "      <th>id</th>\n",
       "      <th>num_comments</th>\n",
       "      <th>score</th>\n",
       "      <th>subreddit</th>\n",
       "      <th>title</th>\n",
       "      <th>upvote_ratio</th>\n",
       "      <th>url</th>\n",
       "    </tr>\n",
       "  </thead>\n",
       "  <tbody>\n",
       "    <tr>\n",
       "      <th>0</th>\n",
       "      <td>Samkazi23</td>\n",
       "      <td>1.601395e+09</td>\n",
       "      <td>j21vyv</td>\n",
       "      <td>9.0</td>\n",
       "      <td>1.0</td>\n",
       "      <td>ACMilan</td>\n",
       "      <td>Jens Petter Hauge has just arrived to the hote...</td>\n",
       "      <td>1.0</td>\n",
       "      <td>https://twitter.com/ACMReports/status/13109699...</td>\n",
       "    </tr>\n",
       "    <tr>\n",
       "      <th>1</th>\n",
       "      <td>Gaverini</td>\n",
       "      <td>1.601394e+09</td>\n",
       "      <td>j21pjj</td>\n",
       "      <td>7.0</td>\n",
       "      <td>1.0</td>\n",
       "      <td>ACMilan</td>\n",
       "      <td>Favourite AC Milan Goal: Final Results</td>\n",
       "      <td>1.0</td>\n",
       "      <td>https://i.redd.it/p5ud8vafw3q51.png</td>\n",
       "    </tr>\n",
       "    <tr>\n",
       "      <th>2</th>\n",
       "      <td>Dexonic</td>\n",
       "      <td>1.601391e+09</td>\n",
       "      <td>j20l0o</td>\n",
       "      <td>66.0</td>\n",
       "      <td>1.0</td>\n",
       "      <td>ACMilan</td>\n",
       "      <td>[Di Marzio] Fofana is becoming difficult for M...</td>\n",
       "      <td>1.0</td>\n",
       "      <td>https://gianlucadimarzio.com/it/milan-tomiyasu...</td>\n",
       "    </tr>\n",
       "    <tr>\n",
       "      <th>3</th>\n",
       "      <td>GianniRivera10</td>\n",
       "      <td>1.601388e+09</td>\n",
       "      <td>j1zm7n</td>\n",
       "      <td>14.0</td>\n",
       "      <td>1.0</td>\n",
       "      <td>ACMilan</td>\n",
       "      <td>[Ultimo Uomo] Jens Petter Hauge, an entertaini...</td>\n",
       "      <td>1.0</td>\n",
       "      <td>https://www.ultimouomo.com/hauge-milan-bodo-ca...</td>\n",
       "    </tr>\n",
       "    <tr>\n",
       "      <th>4</th>\n",
       "      <td>Samkazi23</td>\n",
       "      <td>1.601385e+09</td>\n",
       "      <td>j1yvm8</td>\n",
       "      <td>8.0</td>\n",
       "      <td>1.0</td>\n",
       "      <td>ACMilan</td>\n",
       "      <td>Get well soon, Ante!</td>\n",
       "      <td>1.0</td>\n",
       "      <td>https://i.imgur.com/Ef5gzFt.jpg</td>\n",
       "    </tr>\n",
       "    <tr>\n",
       "      <th>...</th>\n",
       "      <td>...</td>\n",
       "      <td>...</td>\n",
       "      <td>...</td>\n",
       "      <td>...</td>\n",
       "      <td>...</td>\n",
       "      <td>...</td>\n",
       "      <td>...</td>\n",
       "      <td>...</td>\n",
       "      <td>...</td>\n",
       "    </tr>\n",
       "    <tr>\n",
       "      <th>8117</th>\n",
       "      <td>Claija79</td>\n",
       "      <td>1.627752e+09</td>\n",
       "      <td>ovb8tj</td>\n",
       "      <td>5.0</td>\n",
       "      <td>1.0</td>\n",
       "      <td>ACMilan</td>\n",
       "      <td>[Longo] Gasperini definitely open to the sale ...</td>\n",
       "      <td>1.0</td>\n",
       "      <td>https://twitter.com/86_longo/status/1421518730...</td>\n",
       "    </tr>\n",
       "    <tr>\n",
       "      <th>8118</th>\n",
       "      <td>Hass_s</td>\n",
       "      <td>1.627752e+09</td>\n",
       "      <td>ovb2jn</td>\n",
       "      <td>11.0</td>\n",
       "      <td>1.0</td>\n",
       "      <td>ACMilan</td>\n",
       "      <td>[ Antonio Vitiello ] Gasperini: \" Ilicic ? at ...</td>\n",
       "      <td>1.0</td>\n",
       "      <td>https://twitter.com/AntoVitiello/status/142151...</td>\n",
       "    </tr>\n",
       "    <tr>\n",
       "      <th>8119</th>\n",
       "      <td>Hass_s</td>\n",
       "      <td>1.627751e+09</td>\n",
       "      <td>ovapqy</td>\n",
       "      <td>20.0</td>\n",
       "      <td>1.0</td>\n",
       "      <td>ACMilan</td>\n",
       "      <td>[Pietro Mazzara] Rafael Leao is not on the mar...</td>\n",
       "      <td>1.0</td>\n",
       "      <td>https://twitter.com/pietromazzara/status/14215...</td>\n",
       "    </tr>\n",
       "    <tr>\n",
       "      <th>8120</th>\n",
       "      <td>Hass_s</td>\n",
       "      <td>1.627749e+09</td>\n",
       "      <td>ova4u2</td>\n",
       "      <td>11.0</td>\n",
       "      <td>1.0</td>\n",
       "      <td>ACMilan</td>\n",
       "      <td>Comunicato Ufficiale: Lorenzo Colombo | AC Mil...</td>\n",
       "      <td>1.0</td>\n",
       "      <td>https://www.acmilan.com/it/news/articoli/media...</td>\n",
       "    </tr>\n",
       "    <tr>\n",
       "      <th>8121</th>\n",
       "      <td>NotCoolNickname</td>\n",
       "      <td>1.627748e+09</td>\n",
       "      <td>ov9uea</td>\n",
       "      <td>0.0</td>\n",
       "      <td>1.0</td>\n",
       "      <td>ACMilan</td>\n",
       "      <td>Maldini negotiations leaked on YouTube</td>\n",
       "      <td>1.0</td>\n",
       "      <td>https://youtu.be/Ds-7z7tPBCg</td>\n",
       "    </tr>\n",
       "  </tbody>\n",
       "</table>\n",
       "<p>8122 rows × 9 columns</p>\n",
       "</div>"
      ],
      "text/plain": [
       "               author   created_utc      id  num_comments  score subreddit  \\\n",
       "0           Samkazi23  1.601395e+09  j21vyv           9.0    1.0   ACMilan   \n",
       "1            Gaverini  1.601394e+09  j21pjj           7.0    1.0   ACMilan   \n",
       "2             Dexonic  1.601391e+09  j20l0o          66.0    1.0   ACMilan   \n",
       "3      GianniRivera10  1.601388e+09  j1zm7n          14.0    1.0   ACMilan   \n",
       "4           Samkazi23  1.601385e+09  j1yvm8           8.0    1.0   ACMilan   \n",
       "...               ...           ...     ...           ...    ...       ...   \n",
       "8117         Claija79  1.627752e+09  ovb8tj           5.0    1.0   ACMilan   \n",
       "8118           Hass_s  1.627752e+09  ovb2jn          11.0    1.0   ACMilan   \n",
       "8119           Hass_s  1.627751e+09  ovapqy          20.0    1.0   ACMilan   \n",
       "8120           Hass_s  1.627749e+09  ova4u2          11.0    1.0   ACMilan   \n",
       "8121  NotCoolNickname  1.627748e+09  ov9uea           0.0    1.0   ACMilan   \n",
       "\n",
       "                                                  title  upvote_ratio  \\\n",
       "0     Jens Petter Hauge has just arrived to the hote...           1.0   \n",
       "1                Favourite AC Milan Goal: Final Results           1.0   \n",
       "2     [Di Marzio] Fofana is becoming difficult for M...           1.0   \n",
       "3     [Ultimo Uomo] Jens Petter Hauge, an entertaini...           1.0   \n",
       "4                                  Get well soon, Ante!           1.0   \n",
       "...                                                 ...           ...   \n",
       "8117  [Longo] Gasperini definitely open to the sale ...           1.0   \n",
       "8118  [ Antonio Vitiello ] Gasperini: \" Ilicic ? at ...           1.0   \n",
       "8119  [Pietro Mazzara] Rafael Leao is not on the mar...           1.0   \n",
       "8120  Comunicato Ufficiale: Lorenzo Colombo | AC Mil...           1.0   \n",
       "8121             Maldini negotiations leaked on YouTube           1.0   \n",
       "\n",
       "                                                    url  \n",
       "0     https://twitter.com/ACMReports/status/13109699...  \n",
       "1                   https://i.redd.it/p5ud8vafw3q51.png  \n",
       "2     https://gianlucadimarzio.com/it/milan-tomiyasu...  \n",
       "3     https://www.ultimouomo.com/hauge-milan-bodo-ca...  \n",
       "4                       https://i.imgur.com/Ef5gzFt.jpg  \n",
       "...                                                 ...  \n",
       "8117  https://twitter.com/86_longo/status/1421518730...  \n",
       "8118  https://twitter.com/AntoVitiello/status/142151...  \n",
       "8119  https://twitter.com/pietromazzara/status/14215...  \n",
       "8120  https://www.acmilan.com/it/news/articoli/media...  \n",
       "8121                       https://youtu.be/Ds-7z7tPBCg  \n",
       "\n",
       "[8122 rows x 9 columns]"
      ]
     },
     "execution_count": 34,
     "metadata": {},
     "output_type": "execute_result"
    }
   ],
   "source": [
    "df"
   ]
  },
  {
   "cell_type": "code",
   "execution_count": 35,
   "metadata": {},
   "outputs": [
    {
     "data": {
      "text/plain": [
       "1.0      7237\n",
       "2.0       177\n",
       "3.0        69\n",
       "0.0        63\n",
       "4.0        61\n",
       "         ... \n",
       "168.0       1\n",
       "53.0        1\n",
       "68.0        1\n",
       "200.0       1\n",
       "555.0       1\n",
       "Name: score, Length: 137, dtype: int64"
      ]
     },
     "execution_count": 35,
     "metadata": {},
     "output_type": "execute_result"
    }
   ],
   "source": [
    "df.score.value_counts()"
   ]
  },
  {
   "cell_type": "code",
   "execution_count": null,
   "metadata": {},
   "outputs": [],
   "source": []
  }
 ],
 "metadata": {
  "kernelspec": {
   "display_name": "Python 3",
   "language": "python",
   "name": "python3"
  },
  "language_info": {
   "codemirror_mode": {
    "name": "ipython",
    "version": 3
   },
   "file_extension": ".py",
   "mimetype": "text/x-python",
   "name": "python",
   "nbconvert_exporter": "python",
   "pygments_lexer": "ipython3",
   "version": "3.7.4"
  }
 },
 "nbformat": 4,
 "nbformat_minor": 2
}
