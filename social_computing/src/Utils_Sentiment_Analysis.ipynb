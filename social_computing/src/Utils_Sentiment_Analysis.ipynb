{
 "cells": [
  {
   "cell_type": "code",
   "execution_count": 1,
   "metadata": {},
   "outputs": [],
   "source": [
    "import pandas as pd\n",
    "import numpy as np\n",
    "import matplotlib.pyplot as plt\n",
    "from vaderSentiment.vaderSentiment import SentimentIntensityAnalyzer\n",
    "import tqdm.notebook as tq\n",
    "from utils.premier_utils import *\n",
    "from utils.crawler_utils import *"
   ]
  },
  {
   "cell_type": "code",
   "execution_count": null,
   "metadata": {},
   "outputs": [],
   "source": [
    "premier_abbr,_,_,_,_,_,_,_ = get_premier_info()"
   ]
  },
  {
   "cell_type": "code",
   "execution_count": null,
   "metadata": {},
   "outputs": [],
   "source": [
    "analyzer = SentimentIntensityAnalyzer()\n",
    "for team in tq.tqdm(premier_abbr):\n",
    "    sentiment_score = []\n",
    "    positive = []\n",
    "    neutral = []\n",
    "    negative = []\n",
    "    df = pd.read_csv(f'../data/comments/gameday/{team}_gameday_comments.csv')\n",
    "    df['body'].fillna('deleted',inplace=True)\n",
    "    for sentence in tq.tqdm(df.body):\n",
    "        vs = analyzer.polarity_scores(sentence)\n",
    "        sentiment_score.append(vs['compound'])\n",
    "        positive.append(vs['pos'])\n",
    "        neutral.append(vs['neu'])\n",
    "        negative.append(vs['neg'])\n",
    "    df['sentiment_score'] = sentiment_score\n",
    "    df['positive'] = positive\n",
    "    df['neutral'] = neutral\n",
    "    df['negative'] = negative\n",
    "    df.to_csv(f'../data/comments/gameday/sentiment/{team}_gameday_comments_sentiment.csv',index=False)"
   ]
  },
  {
   "cell_type": "code",
   "execution_count": 2,
   "metadata": {},
   "outputs": [
    {
     "data": {
      "application/vnd.jupyter.widget-view+json": {
       "model_id": "fdc33f762b84465b99380442653c90d8",
       "version_major": 2,
       "version_minor": 0
      },
      "text/plain": [
       "HBox(children=(HTML(value=''), FloatProgress(value=0.0, max=6.0), HTML(value='')))"
      ]
     },
     "metadata": {},
     "output_type": "display_data"
    },
    {
     "data": {
      "application/vnd.jupyter.widget-view+json": {
       "model_id": "5907734d7f56408fb5d60ac2a62c8394",
       "version_major": 2,
       "version_minor": 0
      },
      "text/plain": [
       "HBox(children=(HTML(value=''), FloatProgress(value=0.0, max=576.0), HTML(value='')))"
      ]
     },
     "metadata": {},
     "output_type": "display_data"
    },
    {
     "name": "stdout",
     "output_type": "stream",
     "text": [
      "\n"
     ]
    },
    {
     "data": {
      "application/vnd.jupyter.widget-view+json": {
       "model_id": "60fcbbe1971343f9a2bcfad941e4197e",
       "version_major": 2,
       "version_minor": 0
      },
      "text/plain": [
       "HBox(children=(HTML(value=''), FloatProgress(value=0.0, max=550.0), HTML(value='')))"
      ]
     },
     "metadata": {},
     "output_type": "display_data"
    },
    {
     "name": "stdout",
     "output_type": "stream",
     "text": [
      "\n"
     ]
    },
    {
     "data": {
      "application/vnd.jupyter.widget-view+json": {
       "model_id": "9a48a3b711fe45cd913328cf29656a55",
       "version_major": 2,
       "version_minor": 0
      },
      "text/plain": [
       "HBox(children=(HTML(value=''), FloatProgress(value=0.0, max=298.0), HTML(value='')))"
      ]
     },
     "metadata": {},
     "output_type": "display_data"
    },
    {
     "name": "stdout",
     "output_type": "stream",
     "text": [
      "\n"
     ]
    },
    {
     "data": {
      "application/vnd.jupyter.widget-view+json": {
       "model_id": "02c146fed7894e35ab42424858dc135a",
       "version_major": 2,
       "version_minor": 0
      },
      "text/plain": [
       "HBox(children=(HTML(value=''), FloatProgress(value=0.0, max=218.0), HTML(value='')))"
      ]
     },
     "metadata": {},
     "output_type": "display_data"
    },
    {
     "name": "stdout",
     "output_type": "stream",
     "text": [
      "\n"
     ]
    },
    {
     "data": {
      "application/vnd.jupyter.widget-view+json": {
       "model_id": "8cee41280f834bbdaa85b406442790d7",
       "version_major": 2,
       "version_minor": 0
      },
      "text/plain": [
       "HBox(children=(HTML(value=''), FloatProgress(value=0.0, max=243.0), HTML(value='')))"
      ]
     },
     "metadata": {},
     "output_type": "display_data"
    },
    {
     "name": "stdout",
     "output_type": "stream",
     "text": [
      "\n"
     ]
    },
    {
     "data": {
      "application/vnd.jupyter.widget-view+json": {
       "model_id": "880e0996c2b74a9498367290067daa29",
       "version_major": 2,
       "version_minor": 0
      },
      "text/plain": [
       "HBox(children=(HTML(value=''), FloatProgress(value=0.0, max=76.0), HTML(value='')))"
      ]
     },
     "metadata": {},
     "output_type": "display_data"
    },
    {
     "name": "stdout",
     "output_type": "stream",
     "text": [
      "\n",
      "\n"
     ]
    }
   ],
   "source": [
    "analyzer = SentimentIntensityAnalyzer()\n",
    "for name in tq.tqdm(target_player):\n",
    "    sentiment_score = []\n",
    "    positive = []\n",
    "    neutral = []\n",
    "    negative = []\n",
    "    df = pd.read_csv(f'../data/comments/player/{name}_national_team.csv')\n",
    "    df['body'].fillna('deleted',inplace=True)\n",
    "    for sentence in tq.tqdm(df.body):\n",
    "        vs = analyzer.polarity_scores(sentence)\n",
    "        sentiment_score.append(vs['compound'])\n",
    "        positive.append(vs['pos'])\n",
    "        neutral.append(vs['neu'])\n",
    "        negative.append(vs['neg'])\n",
    "    df['sentiment_score'] = sentiment_score\n",
    "    df['positive'] = positive\n",
    "    df['neutral'] = neutral\n",
    "    df['negative'] = negative\n",
    "    df.to_csv(f'../data/comments/player/sentiment/{name}_national_team_sentiment.csv',index=False)"
   ]
  },
  {
   "cell_type": "code",
   "execution_count": 5,
   "metadata": {},
   "outputs": [
    {
     "data": {
      "application/vnd.jupyter.widget-view+json": {
       "model_id": "6a2479b457be4ee48eb1f6c84207ba1b",
       "version_major": 2,
       "version_minor": 0
      },
      "text/plain": [
       "HBox(children=(HTML(value=''), FloatProgress(value=0.0, max=6.0), HTML(value='')))"
      ]
     },
     "metadata": {},
     "output_type": "display_data"
    },
    {
     "data": {
      "application/vnd.jupyter.widget-view+json": {
       "model_id": "fa1100ff84e7467b9209811eb47ae39a",
       "version_major": 2,
       "version_minor": 0
      },
      "text/plain": [
       "HBox(children=(HTML(value=''), FloatProgress(value=0.0, max=6113.0), HTML(value='')))"
      ]
     },
     "metadata": {},
     "output_type": "display_data"
    },
    {
     "name": "stdout",
     "output_type": "stream",
     "text": [
      "\n"
     ]
    },
    {
     "data": {
      "application/vnd.jupyter.widget-view+json": {
       "model_id": "6b3bc48278bb45d986ca935dc1cb5ab0",
       "version_major": 2,
       "version_minor": 0
      },
      "text/plain": [
       "HBox(children=(HTML(value=''), FloatProgress(value=0.0, max=1774.0), HTML(value='')))"
      ]
     },
     "metadata": {},
     "output_type": "display_data"
    },
    {
     "name": "stdout",
     "output_type": "stream",
     "text": [
      "\n"
     ]
    },
    {
     "data": {
      "application/vnd.jupyter.widget-view+json": {
       "model_id": "3d00a9c907b249a69ec966c3cd110ccc",
       "version_major": 2,
       "version_minor": 0
      },
      "text/plain": [
       "HBox(children=(HTML(value=''), FloatProgress(value=0.0, max=725.0), HTML(value='')))"
      ]
     },
     "metadata": {},
     "output_type": "display_data"
    },
    {
     "name": "stdout",
     "output_type": "stream",
     "text": [
      "\n"
     ]
    },
    {
     "data": {
      "application/vnd.jupyter.widget-view+json": {
       "model_id": "f06f1d5663dd46a293559fce6028b73e",
       "version_major": 2,
       "version_minor": 0
      },
      "text/plain": [
       "HBox(children=(HTML(value=''), FloatProgress(value=0.0, max=592.0), HTML(value='')))"
      ]
     },
     "metadata": {},
     "output_type": "display_data"
    },
    {
     "name": "stdout",
     "output_type": "stream",
     "text": [
      "\n"
     ]
    },
    {
     "data": {
      "application/vnd.jupyter.widget-view+json": {
       "model_id": "c204513985124004916ea8270b7bfc55",
       "version_major": 2,
       "version_minor": 0
      },
      "text/plain": [
       "HBox(children=(HTML(value=''), FloatProgress(value=0.0, max=723.0), HTML(value='')))"
      ]
     },
     "metadata": {},
     "output_type": "display_data"
    },
    {
     "name": "stdout",
     "output_type": "stream",
     "text": [
      "\n"
     ]
    },
    {
     "data": {
      "application/vnd.jupyter.widget-view+json": {
       "model_id": "722e88c28a9c4807874c5c0122dd71d9",
       "version_major": 2,
       "version_minor": 0
      },
      "text/plain": [
       "HBox(children=(HTML(value=''), FloatProgress(value=0.0, max=822.0), HTML(value='')))"
      ]
     },
     "metadata": {},
     "output_type": "display_data"
    },
    {
     "name": "stdout",
     "output_type": "stream",
     "text": [
      "\n",
      "\n"
     ]
    }
   ],
   "source": [
    "analyzer = SentimentIntensityAnalyzer()\n",
    "for name in tq.tqdm(target_player):\n",
    "    sentiment_score = []\n",
    "    positive = []\n",
    "    neutral = []\n",
    "    negative = []\n",
    "    df = pd.read_csv(f'../data/comments/player/{name}_premier.csv')\n",
    "    df['body'].fillna('deleted',inplace=True)\n",
    "    for sentence in tq.tqdm(df.body):\n",
    "        vs = analyzer.polarity_scores(sentence)\n",
    "        sentiment_score.append(vs['compound'])\n",
    "        positive.append(vs['pos'])\n",
    "        neutral.append(vs['neu'])\n",
    "        negative.append(vs['neg'])\n",
    "    df['sentiment_score'] = sentiment_score\n",
    "    df['positive'] = positive\n",
    "    df['neutral'] = neutral\n",
    "    df['negative'] = negative\n",
    "    df.to_csv(f'../data/comments/player/sentiment/{name}_premier_sentiment.csv',index=False)"
   ]
  },
  {
   "cell_type": "code",
   "execution_count": 6,
   "metadata": {},
   "outputs": [
    {
     "data": {
      "application/vnd.jupyter.widget-view+json": {
       "model_id": "652ec44ea06d4ad6bdf9810a370673b4",
       "version_major": 2,
       "version_minor": 0
      },
      "text/plain": [
       "HBox(children=(HTML(value=''), FloatProgress(value=0.0, max=6.0), HTML(value='')))"
      ]
     },
     "metadata": {},
     "output_type": "display_data"
    },
    {
     "name": "stderr",
     "output_type": "stream",
     "text": [
      "/Users/feegee2000/opt/anaconda3/lib/python3.7/site-packages/IPython/core/interactiveshell.py:3326: DtypeWarning: Columns (0) have mixed types.Specify dtype option on import or set low_memory=False.\n",
      "  exec(code_obj, self.user_global_ns, self.user_ns)\n"
     ]
    },
    {
     "data": {
      "application/vnd.jupyter.widget-view+json": {
       "model_id": "6259e6dd3c5d41da97c3133d62f7d116",
       "version_major": 2,
       "version_minor": 0
      },
      "text/plain": [
       "HBox(children=(HTML(value=''), FloatProgress(value=0.0, max=213454.0), HTML(value='')))"
      ]
     },
     "metadata": {},
     "output_type": "display_data"
    },
    {
     "name": "stdout",
     "output_type": "stream",
     "text": [
      "\n"
     ]
    },
    {
     "data": {
      "application/vnd.jupyter.widget-view+json": {
       "model_id": "32beeb39a141463ebf68b4a9b69c10a3",
       "version_major": 2,
       "version_minor": 0
      },
      "text/plain": [
       "HBox(children=(HTML(value=''), FloatProgress(value=0.0, max=126955.0), HTML(value='')))"
      ]
     },
     "metadata": {},
     "output_type": "display_data"
    },
    {
     "name": "stdout",
     "output_type": "stream",
     "text": [
      "\n"
     ]
    },
    {
     "data": {
      "application/vnd.jupyter.widget-view+json": {
       "model_id": "3d9942b67a354ed2b126abc5f9c1e8fe",
       "version_major": 2,
       "version_minor": 0
      },
      "text/plain": [
       "HBox(children=(HTML(value=''), FloatProgress(value=0.0, max=48199.0), HTML(value='')))"
      ]
     },
     "metadata": {},
     "output_type": "display_data"
    },
    {
     "name": "stdout",
     "output_type": "stream",
     "text": [
      "\n"
     ]
    },
    {
     "data": {
      "application/vnd.jupyter.widget-view+json": {
       "model_id": "0c90b56c50a84a1faacd280edc8fca48",
       "version_major": 2,
       "version_minor": 0
      },
      "text/plain": [
       "HBox(children=(HTML(value=''), FloatProgress(value=0.0, max=42429.0), HTML(value='')))"
      ]
     },
     "metadata": {},
     "output_type": "display_data"
    },
    {
     "name": "stdout",
     "output_type": "stream",
     "text": [
      "\n"
     ]
    },
    {
     "data": {
      "application/vnd.jupyter.widget-view+json": {
       "model_id": "4dbecb7891ae422883d06e008b9d6d27",
       "version_major": 2,
       "version_minor": 0
      },
      "text/plain": [
       "HBox(children=(HTML(value=''), FloatProgress(value=0.0, max=33237.0), HTML(value='')))"
      ]
     },
     "metadata": {},
     "output_type": "display_data"
    },
    {
     "name": "stdout",
     "output_type": "stream",
     "text": [
      "\n"
     ]
    },
    {
     "data": {
      "application/vnd.jupyter.widget-view+json": {
       "model_id": "bb6c93c90fa54f65b88801247bbcb526",
       "version_major": 2,
       "version_minor": 0
      },
      "text/plain": [
       "HBox(children=(HTML(value=''), FloatProgress(value=0.0, max=45699.0), HTML(value='')))"
      ]
     },
     "metadata": {},
     "output_type": "display_data"
    },
    {
     "name": "stdout",
     "output_type": "stream",
     "text": [
      "\n",
      "\n"
     ]
    }
   ],
   "source": [
    "analyzer = SentimentIntensityAnalyzer()\n",
    "for name in tq.tqdm(target_player):\n",
    "    sentiment_score = []\n",
    "    positive = []\n",
    "    neutral = []\n",
    "    negative = []\n",
    "    df = pd.read_csv(f'../data/comments/player/{name}_soccer.csv')\n",
    "    df['body'].fillna('deleted',inplace=True)\n",
    "    for sentence in tq.tqdm(df.body):\n",
    "        vs = analyzer.polarity_scores(sentence)\n",
    "        sentiment_score.append(vs['compound'])\n",
    "        positive.append(vs['pos'])\n",
    "        neutral.append(vs['neu'])\n",
    "        negative.append(vs['neg'])\n",
    "    df['sentiment_score'] = sentiment_score\n",
    "    df['positive'] = positive\n",
    "    df['neutral'] = neutral\n",
    "    df['negative'] = negative\n",
    "    df.to_csv(f'../data/comments/player/sentiment/{name}_soccer_sentiment.csv',index=False)"
   ]
  },
  {
   "cell_type": "code",
   "execution_count": 13,
   "metadata": {},
   "outputs": [
    {
     "data": {
      "application/vnd.jupyter.widget-view+json": {
       "model_id": "e1da6cb65a9a4d05916976b091ac5709",
       "version_major": 2,
       "version_minor": 0
      },
      "text/plain": [
       "HBox(children=(HTML(value=''), FloatProgress(value=0.0, max=95660.0), HTML(value='')))"
      ]
     },
     "metadata": {},
     "output_type": "display_data"
    },
    {
     "name": "stdout",
     "output_type": "stream",
     "text": [
      "\n"
     ]
    }
   ],
   "source": [
    "analyzer = SentimentIntensityAnalyzer()\n",
    "sentiment_score = []\n",
    "positive = []\n",
    "neutral = []\n",
    "negative = []\n",
    "df = pd.read_csv('../data/comments/player/Lingard_MNU.csv')\n",
    "df['body'].fillna('deleted',inplace=True)\n",
    "for sentence in tq.tqdm(df.body):\n",
    "    vs = analyzer.polarity_scores(sentence)\n",
    "    sentiment_score.append(vs['compound'])\n",
    "    positive.append(vs['pos'])\n",
    "    neutral.append(vs['neu'])\n",
    "    negative.append(vs['neg'])\n",
    "df['sentiment_score'] = sentiment_score\n",
    "df['positive'] = positive\n",
    "df['neutral'] = neutral\n",
    "df['negative'] = negative\n",
    "df.to_csv('../data/comments/player/sentiment/Lingard_MNU_sentiment.csv',index=False)"
   ]
  },
  {
   "cell_type": "code",
   "execution_count": 12,
   "metadata": {},
   "outputs": [
    {
     "data": {
      "application/vnd.jupyter.widget-view+json": {
       "model_id": "69ca70c9fe1e47b0b44e3e4dbfcf7cab",
       "version_major": 2,
       "version_minor": 0
      },
      "text/plain": [
       "HBox(children=(HTML(value=''), FloatProgress(value=0.0, max=6.0), HTML(value='')))"
      ]
     },
     "metadata": {},
     "output_type": "display_data"
    },
    {
     "data": {
      "application/vnd.jupyter.widget-view+json": {
       "model_id": "e964546a4b9d4bc28c64f22f52388572",
       "version_major": 2,
       "version_minor": 0
      },
      "text/plain": [
       "HBox(children=(HTML(value=''), FloatProgress(value=0.0, max=1374.0), HTML(value='')))"
      ]
     },
     "metadata": {},
     "output_type": "display_data"
    },
    {
     "name": "stdout",
     "output_type": "stream",
     "text": [
      "\n"
     ]
    },
    {
     "data": {
      "application/vnd.jupyter.widget-view+json": {
       "model_id": "1ffa87e25dcc45a7af77d8922723798f",
       "version_major": 2,
       "version_minor": 0
      },
      "text/plain": [
       "HBox(children=(HTML(value=''), FloatProgress(value=0.0, max=820.0), HTML(value='')))"
      ]
     },
     "metadata": {},
     "output_type": "display_data"
    },
    {
     "name": "stdout",
     "output_type": "stream",
     "text": [
      "\n"
     ]
    },
    {
     "data": {
      "application/vnd.jupyter.widget-view+json": {
       "model_id": "737a189f9e88454b8f5b2b932237052a",
       "version_major": 2,
       "version_minor": 0
      },
      "text/plain": [
       "HBox(children=(HTML(value=''), FloatProgress(value=0.0, max=182.0), HTML(value='')))"
      ]
     },
     "metadata": {},
     "output_type": "display_data"
    },
    {
     "name": "stdout",
     "output_type": "stream",
     "text": [
      "\n"
     ]
    },
    {
     "data": {
      "application/vnd.jupyter.widget-view+json": {
       "model_id": "04eef0ba41c84fdfb9aecdd081ab5ee0",
       "version_major": 2,
       "version_minor": 0
      },
      "text/plain": [
       "HBox(children=(HTML(value=''), FloatProgress(value=0.0, max=138.0), HTML(value='')))"
      ]
     },
     "metadata": {},
     "output_type": "display_data"
    },
    {
     "name": "stdout",
     "output_type": "stream",
     "text": [
      "\n"
     ]
    },
    {
     "data": {
      "application/vnd.jupyter.widget-view+json": {
       "model_id": "59b623e19b214317a3f009a20432ed89",
       "version_major": 2,
       "version_minor": 0
      },
      "text/plain": [
       "HBox(children=(HTML(value=''), FloatProgress(value=0.0, max=227.0), HTML(value='')))"
      ]
     },
     "metadata": {},
     "output_type": "display_data"
    },
    {
     "name": "stdout",
     "output_type": "stream",
     "text": [
      "\n"
     ]
    },
    {
     "data": {
      "application/vnd.jupyter.widget-view+json": {
       "model_id": "899250eb496f4096af9b321681f3fb59",
       "version_major": 2,
       "version_minor": 0
      },
      "text/plain": [
       "HBox(children=(HTML(value=''), FloatProgress(value=0.0, max=287.0), HTML(value='')))"
      ]
     },
     "metadata": {},
     "output_type": "display_data"
    },
    {
     "name": "stdout",
     "output_type": "stream",
     "text": [
      "\n",
      "\n"
     ]
    }
   ],
   "source": [
    "analyzer = SentimentIntensityAnalyzer()\n",
    "for name in tq.tqdm(target_player):\n",
    "    sentiment_score = []\n",
    "    positive = []\n",
    "    neutral = []\n",
    "    negative = []\n",
    "    df = pd.read_csv(f'../data/comments/player/{name}_football.csv')\n",
    "    df['body'].fillna('deleted',inplace=True)\n",
    "    for sentence in tq.tqdm(df.body):\n",
    "        vs = analyzer.polarity_scores(sentence)\n",
    "        sentiment_score.append(vs['compound'])\n",
    "        positive.append(vs['pos'])\n",
    "        neutral.append(vs['neu'])\n",
    "        negative.append(vs['neg'])\n",
    "    df['sentiment_score'] = sentiment_score\n",
    "    df['positive'] = positive\n",
    "    df['neutral'] = neutral\n",
    "    df['negative'] = negative\n",
    "    df.to_csv(f'../data/comments/player/sentiment/{name}_football_sentiment.csv',index=False)"
   ]
  },
  {
   "cell_type": "code",
   "execution_count": 14,
   "metadata": {},
   "outputs": [
    {
     "data": {
      "application/vnd.jupyter.widget-view+json": {
       "model_id": "2e46cb0672f44983897096983de34056",
       "version_major": 2,
       "version_minor": 0
      },
      "text/plain": [
       "HBox(children=(HTML(value=''), FloatProgress(value=0.0, max=286913.0), HTML(value='')))"
      ]
     },
     "metadata": {},
     "output_type": "display_data"
    },
    {
     "name": "stdout",
     "output_type": "stream",
     "text": [
      "\n"
     ]
    }
   ],
   "source": [
    "analyzer = SentimentIntensityAnalyzer()\n",
    "\n",
    "sentiment_score = []\n",
    "positive = []\n",
    "neutral = []\n",
    "negative = []\n",
    "df = pd.read_csv(f'../data/comments/player/author/Kane_TOT_author_comments.csv')\n",
    "df['body'].fillna('deleted',inplace=True)\n",
    "for sentence in tq.tqdm(df.body):\n",
    "    vs = analyzer.polarity_scores(sentence)\n",
    "    sentiment_score.append(vs['compound'])\n",
    "    positive.append(vs['pos'])\n",
    "    neutral.append(vs['neu'])\n",
    "    negative.append(vs['neg'])\n",
    "df['sentiment_score'] = sentiment_score\n",
    "df['positive'] = positive\n",
    "df['neutral'] = neutral\n",
    "df['negative'] = negative\n",
    "df.to_csv(f'../data/comments/player/author/sentiment/Kane_TOT_author_comments_sentiment.csv',index=False)"
   ]
  },
  {
   "cell_type": "code",
   "execution_count": 15,
   "metadata": {},
   "outputs": [
    {
     "data": {
      "application/vnd.jupyter.widget-view+json": {
       "model_id": "0440520c00dd4207b35fe96cf749096c",
       "version_major": 2,
       "version_minor": 0
      },
      "text/plain": [
       "HBox(children=(HTML(value=''), FloatProgress(value=0.0, max=1790502.0), HTML(value='')))"
      ]
     },
     "metadata": {},
     "output_type": "display_data"
    },
    {
     "name": "stdout",
     "output_type": "stream",
     "text": [
      "\n"
     ]
    }
   ],
   "source": [
    "analyzer = SentimentIntensityAnalyzer()\n",
    "\n",
    "sentiment_score = []\n",
    "positive = []\n",
    "neutral = []\n",
    "negative = []\n",
    "df = pd.read_csv(f'../data/comments/player/author/Kane_soccer_author_comments.csv')\n",
    "df['body'].fillna('deleted',inplace=True)\n",
    "for sentence in tq.tqdm(df.body):\n",
    "    vs = analyzer.polarity_scores(sentence)\n",
    "    sentiment_score.append(vs['compound'])\n",
    "    positive.append(vs['pos'])\n",
    "    neutral.append(vs['neu'])\n",
    "    negative.append(vs['neg'])\n",
    "df['sentiment_score'] = sentiment_score\n",
    "df['positive'] = positive\n",
    "df['neutral'] = neutral\n",
    "df['negative'] = negative\n",
    "df.to_csv(f'../data/comments/player/author/sentiment/Kane_soccer_author_comments_sentiment.csv',index=False)"
   ]
  },
  {
   "cell_type": "code",
   "execution_count": 16,
   "metadata": {},
   "outputs": [
    {
     "data": {
      "application/vnd.jupyter.widget-view+json": {
       "model_id": "a1a36aecbad140c1a880b7c385defacc",
       "version_major": 2,
       "version_minor": 0
      },
      "text/plain": [
       "HBox(children=(HTML(value=''), FloatProgress(value=0.0, max=296164.0), HTML(value='')))"
      ]
     },
     "metadata": {},
     "output_type": "display_data"
    },
    {
     "name": "stdout",
     "output_type": "stream",
     "text": [
      "\n"
     ]
    }
   ],
   "source": [
    "analyzer = SentimentIntensityAnalyzer()\n",
    "\n",
    "sentiment_score = []\n",
    "positive = []\n",
    "neutral = []\n",
    "negative = []\n",
    "df = pd.read_csv(f'../data/comments/player/author/Kane_Premier_author_comments.csv')\n",
    "df['body'].fillna('deleted',inplace=True)\n",
    "for sentence in tq.tqdm(df.body):\n",
    "    vs = analyzer.polarity_scores(sentence)\n",
    "    sentiment_score.append(vs['compound'])\n",
    "    positive.append(vs['pos'])\n",
    "    neutral.append(vs['neu'])\n",
    "    negative.append(vs['neg'])\n",
    "df['sentiment_score'] = sentiment_score\n",
    "df['positive'] = positive\n",
    "df['neutral'] = neutral\n",
    "df['negative'] = negative\n",
    "df.to_csv(f'../data/comments/player/author/sentiment/Kane_Premier_author_comments_sentiment.csv',index=False)"
   ]
  },
  {
   "cell_type": "code",
   "execution_count": 17,
   "metadata": {},
   "outputs": [
    {
     "data": {
      "application/vnd.jupyter.widget-view+json": {
       "model_id": "a07baecdf7614cb8801073618e0fddb9",
       "version_major": 2,
       "version_minor": 0
      },
      "text/plain": [
       "HBox(children=(HTML(value=''), FloatProgress(value=0.0, max=10850.0), HTML(value='')))"
      ]
     },
     "metadata": {},
     "output_type": "display_data"
    },
    {
     "name": "stdout",
     "output_type": "stream",
     "text": [
      "\n"
     ]
    }
   ],
   "source": [
    "analyzer = SentimentIntensityAnalyzer()\n",
    "\n",
    "sentiment_score = []\n",
    "positive = []\n",
    "neutral = []\n",
    "negative = []\n",
    "df = pd.read_csv('../data/comments/author_bg/player_group1_comments.csv')\n",
    "df['body'].fillna('deleted',inplace=True)\n",
    "for sentence in tq.tqdm(df.body):\n",
    "    vs = analyzer.polarity_scores(sentence)\n",
    "    sentiment_score.append(vs['compound'])\n",
    "    positive.append(vs['pos'])\n",
    "    neutral.append(vs['neu'])\n",
    "    negative.append(vs['neg'])\n",
    "df['sentiment_score'] = sentiment_score\n",
    "df['positive'] = positive\n",
    "df['neutral'] = neutral\n",
    "df['negative'] = negative\n",
    "df.to_csv('../data/comments/author_bg/sentiment/player_group1_comments.csv',index=False)"
   ]
  },
  {
   "cell_type": "code",
   "execution_count": 23,
   "metadata": {},
   "outputs": [
    {
     "data": {
      "application/vnd.jupyter.widget-view+json": {
       "model_id": "b59239646a90402ba858a6e00a461249",
       "version_major": 2,
       "version_minor": 0
      },
      "text/plain": [
       "HBox(children=(HTML(value=''), FloatProgress(value=0.0, max=1.0), HTML(value='')))"
      ]
     },
     "metadata": {},
     "output_type": "display_data"
    },
    {
     "data": {
      "application/vnd.jupyter.widget-view+json": {
       "model_id": "e4f4bd679fbc4111960ce0f47659d78a",
       "version_major": 2,
       "version_minor": 0
      },
      "text/plain": [
       "HBox(children=(HTML(value=''), FloatProgress(value=0.0, max=32961.0), HTML(value='')))"
      ]
     },
     "metadata": {},
     "output_type": "display_data"
    },
    {
     "name": "stdout",
     "output_type": "stream",
     "text": [
      "\n",
      "\n"
     ]
    }
   ],
   "source": [
    "team_list = ['LIV','ARS','MNU','CHE','MNC','TOT']\n",
    "sent = ['pos','neg']\n",
    "analyzer = SentimentIntensityAnalyzer()\n",
    "for name in tq.tqdm(team_list):\n",
    "    for s in sent:\n",
    "        sentiment_score = []\n",
    "        positive = []\n",
    "        neutral = []\n",
    "        negative = []\n",
    "        df = pd.read_csv(f'../data/comments/author_bg/{name}_{s}_author_bg.csv')\n",
    "        df['body'].fillna('deleted',inplace=True)\n",
    "        for sentence in tq.tqdm(df.body):\n",
    "            vs = analyzer.polarity_scores(sentence)\n",
    "            sentiment_score.append(vs['compound'])\n",
    "            positive.append(vs['pos'])\n",
    "            neutral.append(vs['neu'])\n",
    "            negative.append(vs['neg'])\n",
    "        df['sentiment_score'] = sentiment_score\n",
    "        df['positive'] = positive\n",
    "        df['neutral'] = neutral\n",
    "        df['negative'] = negative\n",
    "        df.to_csv(f'../data/comments/author_bg/sentiment/{name}_{s}_author_bg_sentiment.csv',index=False)"
   ]
  },
  {
   "cell_type": "code",
   "execution_count": null,
   "metadata": {},
   "outputs": [],
   "source": []
  }
 ],
 "metadata": {
  "kernelspec": {
   "display_name": "Python 3",
   "language": "python",
   "name": "python3"
  },
  "language_info": {
   "codemirror_mode": {
    "name": "ipython",
    "version": 3
   },
   "file_extension": ".py",
   "mimetype": "text/x-python",
   "name": "python",
   "nbconvert_exporter": "python",
   "pygments_lexer": "ipython3",
   "version": "3.7.4"
  }
 },
 "nbformat": 4,
 "nbformat_minor": 2
}
