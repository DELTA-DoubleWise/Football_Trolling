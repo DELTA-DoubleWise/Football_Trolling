{
 "cells": [
  {
   "cell_type": "code",
   "execution_count": null,
   "metadata": {},
   "outputs": [],
   "source": [
    "import numpy as np\n",
    "import pandas as pd\n",
    "import matplotlib.pyplot as plt\n",
    "from datetime import datetime,timedelta\n",
    "import tqdm.notebook as tq\n",
    "import matplotlib\n",
    "# import os \n",
    "# os.environ[\"PATH\"] += os.pathsep + '/Library/TeX/texbin'\n",
    "# matplotlib.use(\"pgf\")\n",
    "# matplotlib.rcParams.update({\n",
    "#     \"pgf.texsystem\": \"pdflatex\",\n",
    "#     'font.family': 'serif',\n",
    "#     'text.usetex': True,\n",
    "#     'pgf.rcfonts': False,\n",
    "# })"
   ]
  },
  {
   "cell_type": "code",
   "execution_count": null,
   "metadata": {},
   "outputs": [],
   "source": [
    "def get_sentiment_trend(teamA, teamB, time, hour):\n",
    "    df_A = pd.read_csv(f'../data/comments/gameday/Sentiment/{teamA}_gameday_comments_sentiment.csv')\n",
    "    df_B = pd.read_csv(f'../data/comments/gameday/Sentiment/{teamB}_gameday_comments_sentiment.csv')\n",
    "    game_start_time = datetime.fromisoformat(time)\n",
    "    start_hour = game_start_time.hour\n",
    "    start_minute = game_start_time.minute\n",
    "    end_time = game_start_time+timedelta(hours=hour)\n",
    "    df_A['time'] = pd.to_datetime(df_A.time)\n",
    "    df_A_game = df_A[df_A.time>=game_start_time]\n",
    "    df_A_game = df_A_game[df_A_game.time<=end_time]\n",
    "    df_B['time'] = pd.to_datetime(df_B.time)\n",
    "    df_B_game = df_B[df_B.time>=game_start_time]\n",
    "    df_B_game = df_B_game[df_B_game.time<=end_time]\n",
    "    \n",
    "    df_A_game['hour'] = df_A_game['time'].dt.hour\n",
    "    df_A_game['minute'] = df_A_game['time'].dt.minute\n",
    "\n",
    "    df_A_game['minute_after_game_start'] = 60*(df_A_game['hour']-start_hour)+df_A_game['minute']-start_minute\n",
    "    df_A_game['minute_after_game_start_5'] = (df_A_game['minute_after_game_start']/5+1).astype(int)\n",
    "\n",
    "    df_A_time_sentiment = (df_A_game.groupby(['minute_after_game_start_5'])['sentiment_score'].mean())\n",
    "    df_A_time_count = (df_A_game.groupby(['minute_after_game_start_5'])['sentiment_score'].count())\n",
    "    \n",
    "    df_B_game['hour'] = df_B_game['time'].dt.hour\n",
    "    df_B_game['minute'] = df_B_game['time'].dt.minute\n",
    "\n",
    "    df_B_game['minute_after_game_start'] = 60*(df_B_game['hour']-start_hour)+df_B_game['minute']-start_minute\n",
    "    df_B_game['minute_after_game_start_5'] = (df_B_game['minute_after_game_start']/5+1).astype(int)\n",
    "\n",
    "    df_B_time_sentiment = (df_B_game.groupby(['minute_after_game_start_5'])['sentiment_score'].mean())\n",
    "    df_B_time_count = (df_B_game.groupby(['minute_after_game_start_5'])['sentiment_score'].count())\n",
    "    \n",
    "    return df_A_time_sentiment,df_B_time_sentiment,df_A_time_count,df_B_time_count"
   ]
  },
  {
   "cell_type": "code",
   "execution_count": null,
   "metadata": {},
   "outputs": [],
   "source": [
    "A_time_sentiment,B_time_sentiment = get_sentiment_trend('MNC', 'TOT', '2020-11-21T16:30:00', 3)\n",
    "plt.figure(figsize = (12,9))\n",
    "plt.plot()\n",
    "ax = plt.gca()\n",
    "\n",
    "plt.grid(axis='y', alpha=0.75)\n",
    "\n",
    "ax.plot(A_time_sentiment.index*5,A_time_sentiment,color='r',marker='o',label = 'sentiment_score_MNC')\n",
    "ax.plot(B_time_sentiment.index*5,B_time_sentiment,color='b',marker='o',label = 'sentiment_score_TOT')\n",
    "\n",
    "plt.xlabel('minute after game starts')\n",
    "plt.ylabel('Average sentiment score')\n",
    "plt.title('Average sentiment score trend over the game progress')\n",
    "plt.legend()\n",
    "plt.show()"
   ]
  },
  {
   "cell_type": "code",
   "execution_count": null,
   "metadata": {},
   "outputs": [],
   "source": [
    "A_time_sentiment,B_time_sentiment,_,_ = get_sentiment_trend('MNC', 'LEI', '2020-09-27T15:30:00', 3)\n",
    "\n",
    "fig, ax = plt.subplots(1, 1)\n",
    "\n",
    "fig.set_size_inches(6.4, 4.2)\n",
    "ax = plt.gca()\n",
    "\n",
    "plt.grid(axis='y', alpha=0.75)\n",
    "\n",
    "ax.plot(A_time_sentiment.index*5,A_time_sentiment,color='r',marker='o',label = 'sentiment_score_MNC')\n",
    "ax.plot(B_time_sentiment.index*5,B_time_sentiment,color='b',marker='o',label = 'sentiment_score_LEI')\n",
    "\n",
    "ax.axvline(4)\n",
    "ax.text(4, 0.4, \"MNC goal\", ha='left', wrap=True)\n",
    "ax.axvline(37)\n",
    "ax.text(37, 0.4, \"LEI goal\", ha='left', wrap=True)\n",
    "ax.axvline(72)\n",
    "ax.text(72, 0.4, \"LEI goal\", ha='left', wrap=True)\n",
    "ax.axvline(76)\n",
    "ax.text(76, 0.36, \"LEI goal\", ha='left', wrap=True)\n",
    "ax.axvline(95)\n",
    "ax.text(95, 0.4, \"LEI goal\", ha='left', wrap=True)\n",
    "ax.axvline(102)\n",
    "ax.text(102, 0.42, \"MNC goal\", ha='left', wrap=True)\n",
    "ax.axvline(106)\n",
    "ax.text(106, 0.36, \"LEI goal\", ha='left', wrap=True)\n",
    "\n",
    "ax.set_xlabel('Minutes after game starts')\n",
    "ax.set_ylabel('Comments\\' average sentiment score')\n",
    "ax.legend(loc='lower center', bbox_to_anchor=(0.5, 1))\n",
    "plt.savefig('../../Final Report/Assets/MNC_LEI.pgf', bbox_inches='tight')"
   ]
  },
  {
   "cell_type": "code",
   "execution_count": null,
   "metadata": {},
   "outputs": [],
   "source": [
    "A_time_sentiment,B_time_sentiment = get_sentiment_trend('LIV', 'ARS', 3, 3)\n",
    "fig, ax = plt.subplots(1, 1)\n",
    "\n",
    "fig.set_size_inches(6.4, 4.8)\n",
    "ax = plt.gca()\n",
    "\n",
    "ax.grid(axis='y', alpha=0.75)\n",
    "\n",
    "ax.plot(A_time_sentiment.index*5,A_time_sentiment,color='r',marker='o',label = 'sentiment_score_LIV')\n",
    "ax.plot(B_time_sentiment.index*5,B_time_sentiment,color='b',marker='o',label = 'sentiment_score_ARS')\n",
    "\n",
    "ax.axvline(25)\n",
    "ax.text(25, 0.4, \"ARS goal\", ha='right', wrap=True)\n",
    "ax.axvline(28)\n",
    "ax.text(28, 0.36, \"LIV goal\", ha='left', wrap=True)\n",
    "ax.axvline(34)\n",
    "ax.text(34, 0.44, \"LIV goal\", ha='left', wrap=True)\n",
    "ax.axvline(106)\n",
    "ax.text(106, 0.4, \"LIV goal\", ha='left', wrap=True)\n",
    "\n",
    "ax.set_xlabel('Minutes after game starts')\n",
    "ax.set_ylabel('Comments\\' average sentiment score')\n",
    "ax.legend(loc='lower center', bbox_to_anchor=(0.5, 1))\n",
    "plt.savefig('../../Final Report/Assets/LIV_ARS.pgf', bbox_inches='tight')"
   ]
  },
  {
   "cell_type": "code",
   "execution_count": null,
   "metadata": {},
   "outputs": [],
   "source": [
    "A_time_sentiment,B_time_sentiment,_,_ = get_sentiment_trend('MNU', 'LIV', '2021-05-13T19:15:00', 3)\n",
    "fig, ax = plt.subplots(1, 1)\n",
    "\n",
    "fig.set_size_inches(6.4, 4.2)\n",
    "ax = plt.gca()\n",
    "\n",
    "plt.grid(axis='y', alpha=0.75)\n",
    "\n",
    "ax.plot(A_time_sentiment.index*5,A_time_sentiment,color='r',marker='o',label = 'sentiment_score_MNU')\n",
    "ax.plot(B_time_sentiment.index*5,B_time_sentiment,color='b',marker='o',label = 'sentiment_score_LIV')\n",
    "\n",
    "ax.axvline(9)\n",
    "ax.text(9, 0.18, \"MNU goal\", ha='left', wrap=True)\n",
    "ax.axvline(33)\n",
    "ax.text(33, 0.22, \"LIV goal\", ha='right', wrap=True)\n",
    "ax.axvline(45)\n",
    "ax.text(45, 0.18, \"LIV goal\", ha='left', wrap=True)\n",
    "ax.axvline(65)\n",
    "ax.text(65, 0.22, \"LIV goal\", ha='left', wrap=True)\n",
    "ax.axvline(86)\n",
    "ax.text(86, 0.18, \"MNU goal\", ha='left', wrap=True)\n",
    "ax.axvline(108)\n",
    "ax.text(108, 0.22, \"LIV goal\", ha='left', wrap=True)\n",
    "\n",
    "ax.set_xlabel('Minutes after game starts')\n",
    "ax.set_ylabel('Comments\\' average sentiment score')\n",
    "ax.legend(loc='lower center', bbox_to_anchor=(0.5, 1))\n",
    "#plt.savefig('../../Final Report/Assets/MNU_LIV.pgf', bbox_inches='tight')"
   ]
  },
  {
   "cell_type": "code",
   "execution_count": null,
   "metadata": {
    "scrolled": true
   },
   "outputs": [],
   "source": [
    "df_A_time_sentiment,df_B_time_sentiment,df_A_count,df_B_count = get_sentiment_trend('TOT', 'LEI', '2021-05-23T15:00:00', 3)\n",
    "print(list(df_A_time_sentiment))\n",
    "print(\"---------------------\")\n",
    "print(list(df_B_time_sentiment))\n",
    "print(\"---------------------\")\n",
    "print(list(df_A_count))\n",
    "print(\"---------------------\")\n",
    "print(list(df_B_count))\n",
    "print(\"---------------------\")\n",
    "print(df_A_time_sentiment.index*5)\n",
    "plt.figure(figsize = (12,9))\n",
    "plt.plot()\n",
    "ax = plt.gca()\n",
    "\n",
    "plt.grid(axis='y', alpha=0.75)\n",
    "\n",
    "ax.plot(df_A_time_sentiment.index*5,df_A_time_sentiment,color='r',marker='o',label = 'sentiment_score_TOT')\n",
    "ax.plot(df_B_time_sentiment.index*5,df_B_time_sentiment,color='b',marker='o',label = 'sentiment_score_LEI')\n",
    "plt.axvline(18)\n",
    "plt.text(18, 0.3, \"LEI goal\", ha='left', wrap=True)\n",
    "plt.axvline(41)\n",
    "plt.text(41, 0.3, \"TOT goal\", ha='left', wrap=True)\n",
    "plt.axvline(71)\n",
    "plt.text(71, 0.3, \"LEI goal\", ha='left', wrap=True)\n",
    "plt.axvline(95)\n",
    "plt.text(95, 0.3, \"TOT goal\", ha='right', wrap=True)\n",
    "plt.axvline(105)\n",
    "plt.text(105, 0.3, \"TOT goal\", ha='center', wrap=True)\n",
    "plt.axvline(115)\n",
    "plt.text(115, 0.3, \"TOT goal\", ha='left', wrap=True)\n",
    "plt.xlabel('minute after game starts')\n",
    "plt.ylabel('Average sentiment score')\n",
    "plt.title('Average sentiment score trend over the game progress')\n",
    "plt.legend()\n",
    "plt.show()"
   ]
  },
  {
   "cell_type": "code",
   "execution_count": null,
   "metadata": {},
   "outputs": [],
   "source": [
    "event=pd.read_csv(\"../data/game_event.csv\")\n",
    "event.shape"
   ]
  },
  {
   "cell_type": "code",
   "execution_count": null,
   "metadata": {},
   "outputs": [],
   "source": [
    "event.team.value_counts()\n",
    "data_single = event[['team','time']]\n",
    "event_single = data_single.groupby(['team','time']).agg('mean').reset_index()"
   ]
  },
  {
   "cell_type": "code",
   "execution_count": null,
   "metadata": {},
   "outputs": [],
   "source": [
    "def get_team_sentiment_trend(teamA, time):\n",
    "    df = pd.read_csv(f'../data/comments/gameday/Sentiment/{teamA}_gameday_comments_sentiment.csv')\n",
    "    game_start_time = datetime.fromisoformat(time)\n",
    "    start_hour = game_start_time.hour\n",
    "    start_minute = game_start_time.minute\n",
    "    start_time = game_start_time-timedelta(minutes=10)\n",
    "    end_time = game_start_time+timedelta(minutes=125)\n",
    "    df['time'] = pd.to_datetime(df.time)\n",
    "    df_game = df[df.time>=start_time]\n",
    "    df_game = df_game[df_game.time<=end_time]\n",
    "    print(teamA)\n",
    "    print(time)\n",
    "    print(df_game.shape[0])\n",
    "    \n",
    "    df_game['hour'] = df_game['time'].dt.hour\n",
    "    df_game['minute'] = df_game['time'].dt.minute\n",
    "\n",
    "    df_game['minute_after_game_start'] = 60*(df_game['hour']-start_hour)+df_game['minute']-start_minute\n",
    "    df_game['minute_after_game_start_5'] = (df_game['minute_after_game_start']/5+1).astype(int)\n",
    "\n",
    "    df_time_sentiment = (df_game.groupby(['minute_after_game_start_5'])['sentiment_score'].mean())\n",
    "    sentiment_dif = []\n",
    "    for i in range(1,25):\n",
    "        now = 0\n",
    "        now_b1 = 0\n",
    "        now_f1 = 0\n",
    "        now_f2 = 0\n",
    "        if i in df_time_sentiment.index:\n",
    "            now = df_time_sentiment[i]\n",
    "        if i+1 in df_time_sentiment.index:\n",
    "            now_b1 = df_time_sentiment[i+1]\n",
    "        if i-1 in df_time_sentiment.index:\n",
    "            now_f1 = df_time_sentiment[i-1]\n",
    "        if i-2 in df_time_sentiment.index:\n",
    "            now_f2 = df_time_sentiment[i-2]\n",
    "        sentiment_dif.append((now+now_b1-now_f1-now_f2)/2)\n",
    "        \n",
    "    return sentiment_dif\n",
    "    \n",
    "    #return df_game.shape[0]\n",
    "    \n",
    "    "
   ]
  },
  {
   "cell_type": "code",
   "execution_count": null,
   "metadata": {},
   "outputs": [],
   "source": [
    "sentiment_all = []\n",
    "for i in tq.tqdm(range(event_single.shape[0])):\n",
    "    sentiment = get_team_sentiment_trend(event_single.team[i], event_single.time[i])\n",
    "    sentiment_all.append(sentiment)\n",
    "\n",
    "flat_sentiment = [item for sublist in sentiment_all for item in sublist]\n",
    "event = event.sort_values(by = ['team','time'])\n",
    "event['sentiment_dif'] = flat_sentiment"
   ]
  },
  {
   "cell_type": "code",
   "execution_count": null,
   "metadata": {},
   "outputs": [],
   "source": [
    "event.to_csv('../data/match_event_sentiment.csv')"
   ]
  },
  {
   "cell_type": "code",
   "execution_count": null,
   "metadata": {},
   "outputs": [],
   "source": [
    "event['is_goal'] = event['goal']>0\n",
    "event['is_opponent_goal'] = event['opponent_goal']>0\n",
    "event.groupby(['is_goal','is_opponent_goal']).agg('mean')"
   ]
  },
  {
   "cell_type": "code",
   "execution_count": null,
   "metadata": {},
   "outputs": [],
   "source": [
    "sentiment_all = pd.DataFrame()\n",
    "team = []\n",
    "time = []\n",
    "nums = []\n",
    "for i in tq.tqdm(range(event_single.shape[0])):\n",
    "    num = get_team_sentiment_trend(event_single.team[i], event_single.time[i])\n",
    "    team.append(event_single.team[i])\n",
    "    time.append(event_single.time[i])\n",
    "    nums.append(num)"
   ]
  },
  {
   "cell_type": "code",
   "execution_count": null,
   "metadata": {},
   "outputs": [],
   "source": [
    "sentiment_all['team'] = team\n",
    "sentiment_all['time'] = time\n",
    "sentiment_all['nums'] = nums"
   ]
  },
  {
   "cell_type": "code",
   "execution_count": null,
   "metadata": {},
   "outputs": [],
   "source": [
    "pd.set_option('display.max_rows', None)\n",
    "sentiment_all.loc[(sentiment_all.nums<50) & (sentiment_all.nums>0)]"
   ]
  },
  {
   "cell_type": "code",
   "execution_count": null,
   "metadata": {},
   "outputs": [],
   "source": [
    "def get_team_sentiment_trend(teamA, time, time_elapsed):\n",
    "    df = pd.read_csv(f'../data/comments/gameday/Sentiment/{teamA}_gameday_comments_sentiment.csv')\n",
    "    game_start_time = datetime.fromisoformat(time)\n",
    "    event_time = game_start_time+timedelta(minutes=int(time_elapsed))\n",
    "    start_time = event_time-timedelta(minutes=10)\n",
    "    end_time = event_time+timedelta(minutes=10)\n",
    "    df['time'] = pd.to_datetime(df.time)\n",
    "    df_before = df[df.time<event_time]\n",
    "    df_before = df_before[df_before.time>=start_time]\n",
    "    df_after = df[df.time>=event_time]\n",
    "    df_after = df_after[df_after.time<end_time]\n",
    "    \n",
    "    df_before_non_neg = df_before.loc[df_before.sentiment_score>=-0.05]\n",
    "    df_after_non_neg = df_after.loc[df_after.sentiment_score>=-0.05]\n",
    "    \n",
    "    return df_after_non_neg.shape[0],df_after.shape[0],df_before_non_neg.shape[0],df_before.shape[0]\n",
    "    #sentiment_dif = (df_after_non_neg.shape[0]/df_after.shape[0])-(df_before_non_neg.shape[0]/df_before.shape[0])\n",
    "    #return sentiment_dif"
   ]
  },
  {
   "cell_type": "code",
   "execution_count": null,
   "metadata": {},
   "outputs": [],
   "source": [
    "event = pd.read_csv(\"../data/event_top8.csv\")\n",
    "event"
   ]
  },
  {
   "cell_type": "code",
   "execution_count": null,
   "metadata": {},
   "outputs": [],
   "source": [
    "before1 = []\n",
    "before = []\n",
    "after1 = []\n",
    "after = []\n",
    "for i in tq.tqdm(range(event.shape[0])):\n",
    "    n_noneg_after,n_after,n_noneg_before,n_before = get_team_sentiment_trend(event.team[i], event.match_time[i],event.time_elapsed[i])\n",
    "    before1.append(n_noneg_before)\n",
    "    before.append(n_before)\n",
    "    after1.append(n_noneg_after)\n",
    "    after.append(n_after)"
   ]
  },
  {
   "cell_type": "code",
   "execution_count": null,
   "metadata": {},
   "outputs": [],
   "source": [
    "event['before_comments'] = before\n",
    "event['before_non_negative_comments'] = before1\n",
    "event['non_neg_rate_before'] = event['before_non_negative_comments']/event['before_comments']\n",
    "event['after_comments'] = after\n",
    "event['after_non_negative_comments'] = after1\n",
    "event['non_neg_rate_after'] = event['after_non_negative_comments']/event['after_comments']"
   ]
  },
  {
   "cell_type": "code",
   "execution_count": null,
   "metadata": {},
   "outputs": [],
   "source": [
    "event['comments_difference'] = event['after_comments']-event['before_comments']"
   ]
  },
  {
   "cell_type": "code",
   "execution_count": null,
   "metadata": {},
   "outputs": [],
   "source": [
    "event.to_csv('../data/events_top8_sentiment_5min.csv',index=False)"
   ]
  },
  {
   "cell_type": "code",
   "execution_count": null,
   "metadata": {},
   "outputs": [],
   "source": [
    "event.groupby(['goal_difference','goal','opponent_goal'])['comments_difference'].mean()\n",
    "\n",
    "event.groupby(['goal_difference','goal'])['sentiment_changes'].mean()"
   ]
  },
  {
   "cell_type": "code",
   "execution_count": null,
   "metadata": {},
   "outputs": [],
   "source": [
    "event_tie = event.loc[event.goal_difference==0]\n",
    "event_tie['sentiment_changes'] = event_tie['sentiment_changes']*100\n",
    "event_tie.to_csv('../data/events_top8_sentiment_tie_10x.csv',index=False)"
   ]
  },
  {
   "cell_type": "code",
   "execution_count": null,
   "metadata": {},
   "outputs": [],
   "source": [
    "event_up1 = event.loc[event.goal_difference==1]\n",
    "event_up1.to_csv('../data/events_top8_sentiment_up1.csv',index=False)"
   ]
  },
  {
   "cell_type": "code",
   "execution_count": null,
   "metadata": {},
   "outputs": [],
   "source": [
    "event_down1 = event.loc[event.goal_difference==-1]\n",
    "event_down1.to_csv('../data/events_top8_sentiment_down1.csv',index=False)"
   ]
  },
  {
   "cell_type": "code",
   "execution_count": null,
   "metadata": {},
   "outputs": [],
   "source": [
    "df = pd.read_csv('../data/match_event_sentiment.csv')\n",
    "df"
   ]
  },
  {
   "cell_type": "code",
   "execution_count": null,
   "metadata": {},
   "outputs": [],
   "source": [
    "df = df.drop(columns = ['Unnamed: 0'])\n",
    "df['is_goal'] = df['goal']>0\n",
    "df['is_opponent_goal'] = df['opponent_goal']>0\n",
    "\n",
    "df.groupby(['goal_difference','is_goal','is_opponent_goal'])['sentiment_dif'].mean()"
   ]
  },
  {
   "cell_type": "code",
   "execution_count": null,
   "metadata": {},
   "outputs": [],
   "source": [
    "df = pd.read_csv('../data/events_top8_sentiment.csv')"
   ]
  },
  {
   "cell_type": "code",
   "execution_count": null,
   "metadata": {},
   "outputs": [],
   "source": [
    "df.groupby(['goal_difference','goal','opponent_goal'])['sentiment_changes'].mean()\n",
    "\n",
    "df_team = df.loc[df.team=='LIV']\n",
    "df_team.groupby(['goal_difference','goal','opponent_goal'])['sentiment_changes'].mean()\n",
    "\n",
    "df.groupby(['team','match_time'])['sentiment_changes'].mean()"
   ]
  },
  {
   "cell_type": "code",
   "execution_count": null,
   "metadata": {},
   "outputs": [],
   "source": [
    "df = pd.read_csv('../data/events_top8_sentiment_5min.csv')"
   ]
  },
  {
   "cell_type": "code",
   "execution_count": null,
   "metadata": {},
   "outputs": [],
   "source": []
  }
 ],
 "metadata": {
  "kernelspec": {
   "display_name": "Python 3",
   "language": "python",
   "name": "python3"
  },
  "language_info": {
   "codemirror_mode": {
    "name": "ipython",
    "version": 3
   },
   "file_extension": ".py",
   "mimetype": "text/x-python",
   "name": "python",
   "nbconvert_exporter": "python",
   "pygments_lexer": "ipython3",
   "version": "3.7.4"
  }
 },
 "nbformat": 4,
 "nbformat_minor": 2
}
